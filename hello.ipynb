{
  "nbformat": 4,
  "nbformat_minor": 0,
  "metadata": {
    "colab": {
      "name": "hello.ipynb",
      "provenance": [],
      "authorship_tag": "ABX9TyO7Qsq/QLSoBgoW3LX03ACw",
      "include_colab_link": true
    },
    "kernelspec": {
      "name": "python3",
      "display_name": "Python 3"
    }
  },
  "cells": [
    {
      "cell_type": "markdown",
      "metadata": {
        "id": "view-in-github",
        "colab_type": "text"
      },
      "source": [
        "<a href=\"https://colab.research.google.com/github/noahgift/student-collaboration-cloud/blob/master/hello.ipynb\" target=\"_parent\"><img src=\"https://colab.research.google.com/assets/colab-badge.svg\" alt=\"Open In Colab\"/></a>"
      ]
    },
    {
      "cell_type": "markdown",
      "metadata": {
        "id": "EJuCC7dSh6A5",
        "colab_type": "text"
      },
      "source": [
        "#Project\n"
      ]
    },
    {
      "cell_type": "markdown",
      "metadata": {
        "id": "BWLB2FT-jA0k",
        "colab_type": "text"
      },
      "source": [
        "![My Drawing-77 sketchpad](https://user-images.githubusercontent.com/58792/85206553-004b0380-b2f1-11ea-9cd7-65695760d7c3.jpeg)"
      ]
    },
    {
      "cell_type": "markdown",
      "metadata": {
        "id": "k9C-R_BHh1rT",
        "colab_type": "text"
      },
      "source": [
        "## Part One"
      ]
    },
    {
      "cell_type": "markdown",
      "metadata": {
        "id": "ELgD1J2Yh4W9",
        "colab_type": "text"
      },
      "source": [
        ""
      ]
    },
    {
      "cell_type": "markdown",
      "metadata": {
        "id": "9980woLCh4Z_",
        "colab_type": "text"
      },
      "source": [
        "## Part Two\n"
      ]
    },
    {
      "cell_type": "code",
      "metadata": {
        "id": "AcLeSX17hy3s",
        "colab_type": "code",
        "colab": {}
      },
      "source": [
        "def hello():\n",
        "    return \"hi\""
      ],
      "execution_count": 1,
      "outputs": []
    },
    {
      "cell_type": "code",
      "metadata": {
        "id": "cmVU7TYCiF6G",
        "colab_type": "code",
        "colab": {
          "base_uri": "https://localhost:8080/",
          "height": 34
        },
        "outputId": "4c6ab225-5386-47bb-95ab-c8f1df6ecf75"
      },
      "source": [
        "hello()"
      ],
      "execution_count": 2,
      "outputs": [
        {
          "output_type": "execute_result",
          "data": {
            "text/plain": [
              "'hi'"
            ]
          },
          "metadata": {
            "tags": []
          },
          "execution_count": 2
        }
      ]
    },
    {
      "cell_type": "code",
      "metadata": {
        "id": "LukWOGZJiHId",
        "colab_type": "code",
        "colab": {}
      },
      "source": [
        ""
      ],
      "execution_count": null,
      "outputs": []
    }
  ]
}